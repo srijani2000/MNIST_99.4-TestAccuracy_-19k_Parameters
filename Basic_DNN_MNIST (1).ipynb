{
  "cells": [
    {
      "cell_type": "code",
      "execution_count": 133,
      "metadata": {
        "id": "9NYCtn4HUaI5"
      },
      "outputs": [],
      "source": [
        "import torch\n",
        "import torch.nn as nn\n",
        "import torch.nn.functional as F\n",
        "import torch.optim as optim\n",
        "#import pandas as pd\n",
        "from torchvision import datasets, transforms\n",
        "from torch.utils.data import DataLoader"
      ]
    },
    {
      "cell_type": "code",
      "execution_count": 134,
      "metadata": {
        "colab": {
          "base_uri": "https://localhost:8080/"
        },
        "id": "c5DB1BrEUxOC",
        "outputId": "319111d7-4266-4ea5-f9af-afb845dd9d0d"
      },
      "outputs": [
        {
          "output_type": "stream",
          "name": "stdout",
          "text": [
            "CUDA Available? True\n"
          ]
        }
      ],
      "source": [
        "# CUDA?\n",
        "cuda = torch.cuda.is_available()\n",
        "print(\"CUDA Available?\", cuda)"
      ]
    },
    {
      "cell_type": "code",
      "execution_count": 135,
      "metadata": {
        "id": "b7-w72aukhQK"
      },
      "outputs": [],
      "source": [
        "\n",
        "\n",
        "class Net(nn.Module):\n",
        "    def __init__(self):\n",
        "        super(Net, self).__init__()\n",
        "        # First Block\n",
        "        self.conv1 = nn.Conv2d(1, 8, kernel_size=3, padding=1)   # fewer channels\n",
        "        self.bn1 = nn.BatchNorm2d(8)\n",
        "        self.conv2 = nn.Conv2d(8, 12, kernel_size=3, padding=1)  # shrink 32→12\n",
        "        self.bn2 = nn.BatchNorm2d(12)\n",
        "        self.conv3 = nn.Conv2d(12, 12, kernel_size=3, padding=1)\n",
        "        self.bn3 = nn.BatchNorm2d(12)\n",
        "\n",
        "        # Transition Layer 1\n",
        "        self.pool = nn.MaxPool2d(2,2)\n",
        "        self.antman1 = nn.Conv2d(12, 8, kernel_size=1)  # bottleneck\n",
        "\n",
        "        # Second Block\n",
        "        self.conv4 = nn.Conv2d(8, 12, kernel_size=3, padding=1)\n",
        "        self.bn4 = nn.BatchNorm2d(12)\n",
        "        self.conv5 = nn.Conv2d(12, 12, kernel_size=3, padding=1)  # instead of 32\n",
        "        self.bn5 = nn.BatchNorm2d(12)\n",
        "\n",
        "\n",
        "        #self.conv5addon = nn.Conv2d(20, 26, kernel_size=3, padding=1)\n",
        "        #self.bn5addon = nn.BatchNorm2d(26)\n",
        "\n",
        "        # Transition Layer 2\n",
        "        self.pool2 = nn.MaxPool2d(2,2) # 7*7*12\n",
        "        self.antman2 = nn.Conv2d(12, 8, kernel_size=1)  # shrink\n",
        "\n",
        "        self.conv5addon = nn.Conv2d(8, 12, kernel_size=3, padding=1)\n",
        "        self.bn5addon = nn.BatchNorm2d(12)\n",
        "\n",
        "        # Final Conv\n",
        "        self.conv6 = nn.Conv2d(12, 12, kernel_size=3, padding=1)\n",
        "\n",
        "        # GAP + Classifier\n",
        "        #self.gap = nn.AdaptiveAvgPool2d((1,1))\n",
        "\n",
        "        self.fc1 = nn.Linear(12*7*7, 16)\n",
        "        #self.gap = nn.AdaptiveAvgPool2d((1,1))\n",
        "        self.dropout = nn.Dropout(0.05)\n",
        "        self.fc2 = nn.Linear(16, 10)\n",
        "\n",
        "    def forward(self, x):\n",
        "        x = F.relu(self.bn1(self.conv1(x)))\n",
        "        x = F.relu(self.bn2(self.conv2(x)))\n",
        "        x = self.pool(F.relu(self.bn3(self.conv3(x))))\n",
        "        x = self.antman1(x)\n",
        "\n",
        "        x = F.relu(self.bn4(self.conv4(x)))\n",
        "        x = self.pool(F.relu(self.bn5(self.conv5(x))))\n",
        "        x = self.antman2(x)\n",
        "\n",
        "        x = F.relu(self.bn5addon(self.conv5addon(x)))\n",
        "        #x = self.antman2(x)\n",
        "\n",
        "        x = self.conv6(x)\n",
        "\n",
        "        #x = self.gap(x)\n",
        "        x = x.view(x.size(0), -1)\n",
        "        x =  self.fc1(x)\n",
        "        x = self.dropout(x)\n",
        "        x = self.fc2(x)\n",
        "        return F.log_softmax(x, dim=1)\n"
      ]
    },
    {
      "cell_type": "code",
      "source": [
        "\n",
        "########### Calculating Total Number of Parameters #######################\n",
        "\n",
        "model = Net()\n",
        "total_params = sum(p.numel() for p in model.parameters() if p.requires_grad)\n",
        "print(f\"Total trainable parameters: {total_params}\")"
      ],
      "metadata": {
        "colab": {
          "base_uri": "https://localhost:8080/"
        },
        "id": "SfhKyTqUGHcv",
        "outputId": "0dc93785-7467-41dd-e012-f8eab4d528d4"
      },
      "execution_count": 136,
      "outputs": [
        {
          "output_type": "stream",
          "name": "stdout",
          "text": [
            "Total trainable parameters: 16570\n"
          ]
        }
      ]
    },
    {
      "cell_type": "code",
      "execution_count": 137,
      "metadata": {
        "id": "snKYDw_iVeFE"
      },
      "outputs": [],
      "source": [
        "#### DATA Pre Processing steps, DATA Augmentation  #########\n",
        "\n",
        "#batch_size=200\n",
        "\n",
        "train_transforms = transforms.Compose([\n",
        "   # transforms.ToPILImage(),\n",
        "    #transforms.RandomAffine(degrees=20, translate=(0.1, 0.1), scale=(0.9, 1.1)),\n",
        "    #transforms.ColorJitter(brightness=0.2, contrast=0.2),\n",
        "    transforms.RandomRotation((-7.0 , 7.0), fill = (1, )),\n",
        "    transforms.RandomAffine(0, translate=(0.02, 0.02)),\n",
        "    transforms.ToTensor(),\n",
        "    transforms.Normalize((0.1307,), (0.3081,))\n",
        "])\n",
        "\n",
        "test_transforms = transforms.Compose([\n",
        "    transforms.ToTensor(),\n",
        "    transforms.Normalize((0.1307,), (0.3081,))\n",
        "])\n",
        "\n",
        "train_dataset = datasets.MNIST(root='./data', train=True, download=True, transform=train_transforms)\n",
        "test_dataset = datasets.MNIST(root='./data', train=False, download=True, transform=test_transforms)\n",
        "\n",
        "train_loader = DataLoader(train_dataset, batch_size=64, shuffle=True) ## creating 1 epoch = batch_size of 200 images at a time\n",
        "test_loader = DataLoader(test_dataset, batch_size=64, shuffle=False)\n"
      ]
    },
    {
      "cell_type": "code",
      "execution_count": 138,
      "metadata": {
        "id": "x487oCiZYJ4b"
      },
      "outputs": [],
      "source": [
        "from torch.optim.lr_scheduler import StepLR\n",
        "\n",
        "device = torch.device(\"cuda\" if torch.cuda.is_available() else \"cpu\")\n",
        "model = Net().to(device)\n",
        "optimizer = optim.Adam(model.parameters(), lr=0.001) # changed from 0.01\n",
        "\n",
        "scheduler = StepLR(optimizer, step_size=6, gamma=0.6)"
      ]
    },
    {
      "cell_type": "code",
      "source": [
        "model"
      ],
      "metadata": {
        "colab": {
          "base_uri": "https://localhost:8080/"
        },
        "id": "vzyUJqntV5Kg",
        "outputId": "3f08c0fa-e81a-4535-8c56-4455430d3f6e"
      },
      "execution_count": 139,
      "outputs": [
        {
          "output_type": "execute_result",
          "data": {
            "text/plain": [
              "Net(\n",
              "  (conv1): Conv2d(1, 8, kernel_size=(3, 3), stride=(1, 1), padding=(1, 1))\n",
              "  (bn1): BatchNorm2d(8, eps=1e-05, momentum=0.1, affine=True, track_running_stats=True)\n",
              "  (conv2): Conv2d(8, 12, kernel_size=(3, 3), stride=(1, 1), padding=(1, 1))\n",
              "  (bn2): BatchNorm2d(12, eps=1e-05, momentum=0.1, affine=True, track_running_stats=True)\n",
              "  (conv3): Conv2d(12, 12, kernel_size=(3, 3), stride=(1, 1), padding=(1, 1))\n",
              "  (bn3): BatchNorm2d(12, eps=1e-05, momentum=0.1, affine=True, track_running_stats=True)\n",
              "  (pool): MaxPool2d(kernel_size=2, stride=2, padding=0, dilation=1, ceil_mode=False)\n",
              "  (antman1): Conv2d(12, 8, kernel_size=(1, 1), stride=(1, 1))\n",
              "  (conv4): Conv2d(8, 12, kernel_size=(3, 3), stride=(1, 1), padding=(1, 1))\n",
              "  (bn4): BatchNorm2d(12, eps=1e-05, momentum=0.1, affine=True, track_running_stats=True)\n",
              "  (conv5): Conv2d(12, 12, kernel_size=(3, 3), stride=(1, 1), padding=(1, 1))\n",
              "  (bn5): BatchNorm2d(12, eps=1e-05, momentum=0.1, affine=True, track_running_stats=True)\n",
              "  (pool2): MaxPool2d(kernel_size=2, stride=2, padding=0, dilation=1, ceil_mode=False)\n",
              "  (antman2): Conv2d(12, 8, kernel_size=(1, 1), stride=(1, 1))\n",
              "  (conv5addon): Conv2d(8, 12, kernel_size=(3, 3), stride=(1, 1), padding=(1, 1))\n",
              "  (bn5addon): BatchNorm2d(12, eps=1e-05, momentum=0.1, affine=True, track_running_stats=True)\n",
              "  (conv6): Conv2d(12, 12, kernel_size=(3, 3), stride=(1, 1), padding=(1, 1))\n",
              "  (fc1): Linear(in_features=588, out_features=16, bias=True)\n",
              "  (dropout): Dropout(p=0.05, inplace=False)\n",
              "  (fc2): Linear(in_features=16, out_features=10, bias=True)\n",
              ")"
            ]
          },
          "metadata": {},
          "execution_count": 139
        }
      ]
    },
    {
      "cell_type": "code",
      "execution_count": 140,
      "metadata": {
        "colab": {
          "base_uri": "https://localhost:8080/",
          "height": 521
        },
        "id": "9X8b77MAYJxF",
        "outputId": "1d5f95b0-1f25-44eb-f395-15d5453eebf9"
      },
      "outputs": [
        {
          "output_type": "stream",
          "name": "stdout",
          "text": [
            "Here is the size of batch 2\n",
            "Here is the size of each image in Mnist dataset torch.Size([64, 1, 28, 28]) && The size of batch is :  torch.Size([64])\n"
          ]
        },
        {
          "output_type": "display_data",
          "data": {
            "text/plain": [
              "<Figure size 640x480 with 12 Axes>"
            ],
            "image/png": "[encoded data removed]"
          },
          "metadata": {}
        }
      ],
      "source": [
        "import matplotlib.pyplot as plt\n",
        "\n",
        "queue=next(iter(train_loader))\n",
        "\n",
        "print(\"Here is the size of batch\",len(queue))\n",
        "\n",
        "batch_data, batch_label = next(iter(train_loader)) #train loader=118 bayches which holds 512 images each 118*512\n",
        "\n",
        "print(\"Here is the size of each image in Mnist dataset\",batch_data.shape , \"&& The size of batch is : \", batch_label.shape) #shape is an attribute here 512 * 1* 28 *28\n",
        "\n",
        "fig = plt.figure()\n",
        "\n",
        "for i in range(12):\n",
        "  plt.subplot(3,4,i+1)\n",
        "  plt.tight_layout()\n",
        "  plt.imshow(batch_data[i].squeeze(0), cmap='gray')\n",
        "  plt.title(batch_label[i].item())\n",
        "  #plt.xticks([])\n",
        "  #plt.yticks([])\n"
      ]
    },
    {
      "cell_type": "code",
      "execution_count": 141,
      "metadata": {
        "id": "PlbiWiuJYJfx"
      },
      "outputs": [],
      "source": [
        "# 4. Training & Testing functions\n",
        "# ------------------------------\n",
        "def train(model, device, train_loader, optimizer, epoch):\n",
        "    model.train()\n",
        "    correct = 0\n",
        "    total = 0\n",
        "    for batch_idx, (data, target) in enumerate(train_loader):\n",
        "        data, target = data.to(device), target.to(device)\n",
        "\n",
        "        optimizer.zero_grad()\n",
        "        output = model(data)\n",
        "        loss = F.nll_loss(output, target)\n",
        "        loss.backward()\n",
        "        optimizer.step()\n",
        "\n",
        "        # Calculate training accuracy\n",
        "        pred = output.argmax(dim=1, keepdim=True)\n",
        "        correct += pred.eq(target.view_as(pred)).sum().item()\n",
        "        total += target.size(0)\n",
        "\n",
        "    print(f\"Epoch {epoch}: Training Accuracy: {100. * correct / total:.2f}%\")\n",
        "\n",
        "def test(model, device, test_loader):\n",
        "    model.eval()\n",
        "    test_loss = 0\n",
        "    correct = 0\n",
        "\n",
        "    with torch.no_grad():\n",
        "        for data, target in test_loader:\n",
        "            data, target = data.to(device), target.to(device)\n",
        "            output = model(data)\n",
        "            test_loss += F.nll_loss(output, target, reduction='sum').item()\n",
        "            pred = output.argmax(dim=1, keepdim=True)\n",
        "            correct += pred.eq(target.view_as(pred)).sum().item()\n",
        "\n",
        "    test_loss /= len(test_loader.dataset)\n",
        "    accuracy = 100. * correct / len(test_loader.dataset)\n",
        "    print(f\"Test set: Average loss: {test_loss:.4f}, Accuracy: {accuracy:.2f}%\")"
      ]
    },
    {
      "cell_type": "code",
      "execution_count": 142,
      "metadata": {
        "id": "BAHK4YIE-YKP"
      },
      "outputs": [],
      "source": [
        "# Data to plot accuracy and loss graphs\n",
        "#train_losses = []\n",
        "#test_losses = []\n",
        "#train_acc = []\n",
        "#test_acc = []\n",
        "\n",
        "#test_incorrect_pred = {'images': [], 'ground_truths': [], 'predicted_vals': []}"
      ]
    },
    {
      "cell_type": "code",
      "execution_count": 143,
      "metadata": {
        "id": "gpNw3-sy4QGd",
        "colab": {
          "base_uri": "https://localhost:8080/"
        },
        "outputId": "6e29b213-72d9-45c1-fef8-5a904816674f"
      },
      "outputs": [
        {
          "output_type": "stream",
          "name": "stdout",
          "text": [
            "Epoch 1: Training Accuracy: 93.37%\n",
            "Test set: Average loss: 0.0503, Accuracy: 98.34%\n",
            "Epoch 2: Training Accuracy: 97.56%\n",
            "Test set: Average loss: 0.0411, Accuracy: 98.65%\n",
            "Epoch 3: Training Accuracy: 98.00%\n",
            "Test set: Average loss: 0.0311, Accuracy: 98.85%\n",
            "Epoch 4: Training Accuracy: 98.42%\n",
            "Test set: Average loss: 0.0309, Accuracy: 98.91%\n",
            "Epoch 5: Training Accuracy: 98.57%\n",
            "Test set: Average loss: 0.0264, Accuracy: 99.17%\n",
            "Epoch 6: Training Accuracy: 98.64%\n",
            "Test set: Average loss: 0.0266, Accuracy: 99.08%\n",
            "Epoch 7: Training Accuracy: 99.02%\n",
            "Test set: Average loss: 0.0208, Accuracy: 99.31%\n",
            "Epoch 8: Training Accuracy: 99.05%\n",
            "Test set: Average loss: 0.0184, Accuracy: 99.35%\n",
            "Epoch 9: Training Accuracy: 99.14%\n",
            "Test set: Average loss: 0.0228, Accuracy: 99.28%\n",
            "Epoch 10: Training Accuracy: 99.18%\n",
            "Test set: Average loss: 0.0247, Accuracy: 99.13%\n",
            "Epoch 11: Training Accuracy: 99.11%\n",
            "Test set: Average loss: 0.0241, Accuracy: 99.21%\n",
            "Epoch 12: Training Accuracy: 99.20%\n",
            "Test set: Average loss: 0.0192, Accuracy: 99.36%\n",
            "Epoch 13: Training Accuracy: 99.34%\n",
            "Test set: Average loss: 0.0180, Accuracy: 99.38%\n",
            "Epoch 14: Training Accuracy: 99.37%\n",
            "Test set: Average loss: 0.0180, Accuracy: 99.36%\n",
            "Epoch 15: Training Accuracy: 99.39%\n",
            "Test set: Average loss: 0.0168, Accuracy: 99.41%\n",
            "Epoch 16: Training Accuracy: 99.39%\n",
            "Test set: Average loss: 0.0199, Accuracy: 99.31%\n",
            "Epoch 17: Training Accuracy: 99.40%\n",
            "Test set: Average loss: 0.0186, Accuracy: 99.44%\n",
            "Epoch 18: Training Accuracy: 99.38%\n",
            "Test set: Average loss: 0.0214, Accuracy: 99.35%\n",
            "Epoch 19: Training Accuracy: 99.48%\n",
            "Test set: Average loss: 0.0165, Accuracy: 99.45%\n",
            "Epoch 20: Training Accuracy: 99.54%\n",
            "Test set: Average loss: 0.0179, Accuracy: 99.40%\n"
          ]
        }
      ],
      "source": [
        "###5. Run training & testing\n",
        "# ------------------------------\n",
        "from torch.optim.lr_scheduler import StepLR\n",
        "\n",
        "#optimizer = torch.optim.SGD(model.parameters(), lr=0.01, momentum=0.9, weight_decay=1e-4)\n",
        "#scheduler = StepLR(optimizer, step_size=5, gamma=0.7)\n",
        "\n",
        "for epoch in range(1, 21):  # train for 5 epochs\n",
        "    train(model, device, train_loader, optimizer, epoch)\n",
        "    test(model, device, test_loader)\n",
        "\n",
        "    scheduler.step()   # 🔹 call this ONCE per epoch (after training+testing)\n",
        "    #print(f\"Epoch {epoch}: Learning rate is {scheduler.get_last_lr()}\")\n",
        "\n"
      ]
    },
    {
      "cell_type": "code",
      "source": [
        "model = Net()\n",
        "total_params = sum(p.numel() for p in model.parameters() if p.requires_grad)\n",
        "print(f\"Total trainable parameters: {total_params}\")"
      ],
      "metadata": {
        "colab": {
          "base_uri": "https://localhost:8080/"
        },
        "id": "1k7QniZXl-Xi",
        "outputId": "9b571ec3-8b93-4603-a17f-23917306556b"
      },
      "execution_count": 144,
      "outputs": [
        {
          "output_type": "stream",
          "name": "stdout",
          "text": [
            "Total trainable parameters: 16570\n"
          ]
        }
      ]
    }
  ],
  "metadata": {
    "colab": {
      "provenance": [],
      "gpuType": "T4"
    },
    "kernelspec": {
      "display_name": "Python 3",
      "name": "python3"
    },
    "language_info": {
      "name": "python"
    },
    "accelerator": "GPU"
  },
  "nbformat": 4,
  "nbformat_minor": 0
}